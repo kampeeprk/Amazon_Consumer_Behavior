{
 "cells":[
  {
   "cell_type":"markdown",
   "source":[
    "# Amazon Consumer Behavior\n",
    "\n",
    "## Objectives\n",
    "\n",
    "This is a dataset collected for analyzing the behavioral analysis of Amazon's consumers consists of a comprehensive collection of customer interactions,browsing patterns within the Amazon ecosystem. It includes a wide range of variables such as customer demographics, user interaction, and reviews. The dataset aims to provide insights into customer preferences, shopping habits, and decision-making processes on the Amazon platform. By analyzing this dataset, researchers and analysts can gain a deeper understanding of consumer behavior, identify trends, optimize marketing strategies, and improve the overall customer experience on Amazon."
   ],
   "attachments":{
    
   },
   "metadata":{
    "datalore":{
     "node_id":"8a8HHnbR8diU3L4f8h3PJr",
     "type":"MD",
     "hide_input_from_viewers":true,
     "hide_output_from_viewers":true
    }
   }
  },
  {
   "cell_type":"markdown",
   "source":[
    "## 1. Data Preparation and Exploration"
   ],
   "attachments":{
    
   },
   "metadata":{
    "datalore":{
     "node_id":"ub32aisgFxVqdVSwwsFo43",
     "type":"MD",
     "hide_input_from_viewers":true,
     "hide_output_from_viewers":true
    }
   }
  },
  {
   "cell_type":"markdown",
   "source":[
    "**1.1 Import Pandas library**"
   ],
   "attachments":{
    
   },
   "metadata":{
    "datalore":{
     "node_id":"Jebsa4T7GuZiYyaL2zV3qi",
     "type":"MD",
     "hide_input_from_viewers":true,
     "hide_output_from_viewers":true
    }
   }
  },
  {
   "cell_type":"code",
   "source":[
    "import pandas as pd"
   ],
   "execution_count":62,
   "outputs":[
    
   ],
   "metadata":{
    "datalore":{
     "node_id":"VbvQs4gCZoy2soon8u9VcG",
     "type":"CODE",
     "hide_input_from_viewers":true,
     "hide_output_from_viewers":true
    }
   }
  },
  {
   "cell_type":"markdown",
   "source":[
    "**1.2 Import data**"
   ],
   "attachments":{
    
   },
   "metadata":{
    "datalore":{
     "node_id":"mnt1l05eIJjvUHhbmEuVNK",
     "type":"MD",
     "hide_input_from_viewers":true,
     "hide_output_from_viewers":true
    }
   }
  },
  {
   "cell_type":"code",
   "source":[
    "df = pd.read_csv(\"Amazon Customer Behavior Survey.csv\")"
   ],
   "execution_count":63,
   "outputs":[
    
   ],
   "metadata":{
    "datalore":{
     "node_id":"KHixsWgaAPkqwBLJj7K68p",
     "type":"CODE",
     "hide_input_from_viewers":true,
     "hide_output_from_viewers":true
    }
   }
  },
  {
   "cell_type":"markdown",
   "source":[
    "**1.3 Check the top 10 rows**"
   ],
   "attachments":{
    
   },
   "metadata":{
    "datalore":{
     "node_id":"m1RZ3NPqEW1Y5GVXgoUu2Y",
     "type":"MD",
     "hide_input_from_viewers":true,
     "hide_output_from_viewers":true
    }
   }
  },
  {
   "cell_type":"code",
   "source":[
    "df.head(10)"
   ],
   "execution_count":64,
   "outputs":[
    {
     "data":{
      "text\/html":[
       "<div>\n",
       "<style scoped>\n",
       "    .dataframe tbody tr th:only-of-type {\n",
       "        vertical-align: middle;\n",
       "    }\n",
       "\n",
       "    .dataframe tbody tr th {\n",
       "        vertical-align: top;\n",
       "    }\n",
       "\n",
       "    .dataframe thead th {\n",
       "        text-align: right;\n",
       "    }\n",
       "<\/style>\n",
       "<table border=\"1\" class=\"dataframe\">\n",
       "  <thead>\n",
       "    <tr style=\"text-align: right;\">\n",
       "      <th><\/th>\n",
       "      <th>Timestamp<\/th>\n",
       "      <th>age<\/th>\n",
       "      <th>Gender<\/th>\n",
       "      <th>Purchase_Frequency<\/th>\n",
       "      <th>Purchase_Categories<\/th>\n",
       "      <th>Personalized_Recommendation_Frequency<\/th>\n",
       "      <th>Browsing_Frequency<\/th>\n",
       "      <th>Product_Search_Method<\/th>\n",
       "      <th>Search_Result_Exploration<\/th>\n",
       "      <th>Customer_Reviews_Importance<\/th>\n",
       "      <th>...<\/th>\n",
       "      <th>Saveforlater_Frequency<\/th>\n",
       "      <th>Review_Left<\/th>\n",
       "      <th>Review_Reliability<\/th>\n",
       "      <th>Review_Helpfulness<\/th>\n",
       "      <th>Personalized_Recommendation_Frequency<\/th>\n",
       "      <th>Recommendation_Helpfulness<\/th>\n",
       "      <th>Rating_Accuracy<\/th>\n",
       "      <th>Shopping_Satisfaction<\/th>\n",
       "      <th>Service_Appreciation<\/th>\n",
       "      <th>Improvement_Areas<\/th>\n",
       "    <\/tr>\n",
       "  <\/thead>\n",
       "  <tbody>\n",
       "    <tr>\n",
       "      <th>0<\/th>\n",
       "      <td>2023\/06\/04 1:28:19 PM GMT+5:30<\/td>\n",
       "      <td>23<\/td>\n",
       "      <td>Female<\/td>\n",
       "      <td>Few times a month<\/td>\n",
       "      <td>Beauty and Personal Care<\/td>\n",
       "      <td>Yes<\/td>\n",
       "      <td>Few times a week<\/td>\n",
       "      <td>Keyword<\/td>\n",
       "      <td>Multiple pages<\/td>\n",
       "      <td>1<\/td>\n",
       "      <td>...<\/td>\n",
       "      <td>Sometimes<\/td>\n",
       "      <td>Yes<\/td>\n",
       "      <td>Occasionally<\/td>\n",
       "      <td>Yes<\/td>\n",
       "      <td>2<\/td>\n",
       "      <td>Yes<\/td>\n",
       "      <td>1<\/td>\n",
       "      <td>1<\/td>\n",
       "      <td>Competitive prices<\/td>\n",
       "      <td>Reducing packaging waste<\/td>\n",
       "    <\/tr>\n",
       "    <tr>\n",
       "      <th>1<\/th>\n",
       "      <td>2023\/06\/04 2:30:44 PM GMT+5:30<\/td>\n",
       "      <td>23<\/td>\n",
       "      <td>Female<\/td>\n",
       "      <td>Once a month<\/td>\n",
       "      <td>Clothing and Fashion<\/td>\n",
       "      <td>Yes<\/td>\n",
       "      <td>Few times a month<\/td>\n",
       "      <td>Keyword<\/td>\n",
       "      <td>Multiple pages<\/td>\n",
       "      <td>1<\/td>\n",
       "      <td>...<\/td>\n",
       "      <td>Rarely<\/td>\n",
       "      <td>No<\/td>\n",
       "      <td>Heavily<\/td>\n",
       "      <td>Yes<\/td>\n",
       "      <td>2<\/td>\n",
       "      <td>Sometimes<\/td>\n",
       "      <td>3<\/td>\n",
       "      <td>2<\/td>\n",
       "      <td>Wide product selection<\/td>\n",
       "      <td>Reducing packaging waste<\/td>\n",
       "    <\/tr>\n",
       "    <tr>\n",
       "      <th>2<\/th>\n",
       "      <td>2023\/06\/04 5:04:56 PM GMT+5:30<\/td>\n",
       "      <td>24<\/td>\n",
       "      <td>Prefer not to say<\/td>\n",
       "      <td>Few times a month<\/td>\n",
       "      <td>Groceries and Gourmet Food;Clothing and Fashion<\/td>\n",
       "      <td>No<\/td>\n",
       "      <td>Few times a month<\/td>\n",
       "      <td>Keyword<\/td>\n",
       "      <td>Multiple pages<\/td>\n",
       "      <td>2<\/td>\n",
       "      <td>...<\/td>\n",
       "      <td>Rarely<\/td>\n",
       "      <td>No<\/td>\n",
       "      <td>Occasionally<\/td>\n",
       "      <td>No<\/td>\n",
       "      <td>4<\/td>\n",
       "      <td>No<\/td>\n",
       "      <td>3<\/td>\n",
       "      <td>3<\/td>\n",
       "      <td>Competitive prices<\/td>\n",
       "      <td>Product quality and accuracy<\/td>\n",
       "    <\/tr>\n",
       "    <tr>\n",
       "      <th>3<\/th>\n",
       "      <td>2023\/06\/04 5:13:00 PM GMT+5:30<\/td>\n",
       "      <td>24<\/td>\n",
       "      <td>Female<\/td>\n",
       "      <td>Once a month<\/td>\n",
       "      <td>Beauty and Personal Care;Clothing and Fashion;...<\/td>\n",
       "      <td>Sometimes<\/td>\n",
       "      <td>Few times a month<\/td>\n",
       "      <td>Keyword<\/td>\n",
       "      <td>First page<\/td>\n",
       "      <td>5<\/td>\n",
       "      <td>...<\/td>\n",
       "      <td>Sometimes<\/td>\n",
       "      <td>Yes<\/td>\n",
       "      <td>Heavily<\/td>\n",
       "      <td>Yes<\/td>\n",
       "      <td>3<\/td>\n",
       "      <td>Sometimes<\/td>\n",
       "      <td>3<\/td>\n",
       "      <td>4<\/td>\n",
       "      <td>Competitive prices<\/td>\n",
       "      <td>Product quality and accuracy<\/td>\n",
       "    <\/tr>\n",
       "    <tr>\n",
       "      <th>4<\/th>\n",
       "      <td>2023\/06\/04 5:28:06 PM GMT+5:30<\/td>\n",
       "      <td>22<\/td>\n",
       "      <td>Female<\/td>\n",
       "      <td>Less than once a month<\/td>\n",
       "      <td>Beauty and Personal Care;Clothing and Fashion<\/td>\n",
       "      <td>Yes<\/td>\n",
       "      <td>Few times a month<\/td>\n",
       "      <td>Filter<\/td>\n",
       "      <td>Multiple pages<\/td>\n",
       "      <td>1<\/td>\n",
       "      <td>...<\/td>\n",
       "      <td>Rarely<\/td>\n",
       "      <td>No<\/td>\n",
       "      <td>Heavily<\/td>\n",
       "      <td>Yes<\/td>\n",
       "      <td>4<\/td>\n",
       "      <td>Yes<\/td>\n",
       "      <td>2<\/td>\n",
       "      <td>2<\/td>\n",
       "      <td>Competitive prices<\/td>\n",
       "      <td>Product quality and accuracy<\/td>\n",
       "    <\/tr>\n",
       "    <tr>\n",
       "      <th>5<\/th>\n",
       "      <td>2023\/06\/04 6:01:59 PM GMT+5:30<\/td>\n",
       "      <td>21<\/td>\n",
       "      <td>Female<\/td>\n",
       "      <td>Less than once a month<\/td>\n",
       "      <td>Clothing and Fashion<\/td>\n",
       "      <td>No<\/td>\n",
       "      <td>Rarely<\/td>\n",
       "      <td>categories<\/td>\n",
       "      <td>Multiple pages<\/td>\n",
       "      <td>1<\/td>\n",
       "      <td>...<\/td>\n",
       "      <td>Never<\/td>\n",
       "      <td>No<\/td>\n",
       "      <td>Heavily<\/td>\n",
       "      <td>Yes<\/td>\n",
       "      <td>5<\/td>\n",
       "      <td>No<\/td>\n",
       "      <td>5<\/td>\n",
       "      <td>2<\/td>\n",
       "      <td>Wide product selection<\/td>\n",
       "      <td>Product quality and accuracy<\/td>\n",
       "    <\/tr>\n",
       "    <tr>\n",
       "      <th>6<\/th>\n",
       "      <td>2023\/06\/04 6:31:41 PM GMT+5:30<\/td>\n",
       "      <td>22<\/td>\n",
       "      <td>Female<\/td>\n",
       "      <td>Less than once a month<\/td>\n",
       "      <td>Clothing and Fashion<\/td>\n",
       "      <td>No<\/td>\n",
       "      <td>Rarely<\/td>\n",
       "      <td>Filter<\/td>\n",
       "      <td>Multiple pages<\/td>\n",
       "      <td>1<\/td>\n",
       "      <td>...<\/td>\n",
       "      <td>Rarely<\/td>\n",
       "      <td>No<\/td>\n",
       "      <td>Heavily<\/td>\n",
       "      <td>Yes<\/td>\n",
       "      <td>3<\/td>\n",
       "      <td>Sometimes<\/td>\n",
       "      <td>3<\/td>\n",
       "      <td>3<\/td>\n",
       "      <td>Wide product selection<\/td>\n",
       "      <td>Shipping speed and reliability<\/td>\n",
       "    <\/tr>\n",
       "    <tr>\n",
       "      <th>7<\/th>\n",
       "      <td>2023\/06\/04 7:13:12 PM GMT+5:30<\/td>\n",
       "      <td>21<\/td>\n",
       "      <td>Female<\/td>\n",
       "      <td>Few times a month<\/td>\n",
       "      <td>Beauty and Personal Care;Clothing and Fashion<\/td>\n",
       "      <td>No<\/td>\n",
       "      <td>Rarely<\/td>\n",
       "      <td>Keyword<\/td>\n",
       "      <td>Multiple pages<\/td>\n",
       "      <td>1<\/td>\n",
       "      <td>...<\/td>\n",
       "      <td>Rarely<\/td>\n",
       "      <td>No<\/td>\n",
       "      <td>Heavily<\/td>\n",
       "      <td>Sometimes<\/td>\n",
       "      <td>3<\/td>\n",
       "      <td>Sometimes<\/td>\n",
       "      <td>1<\/td>\n",
       "      <td>3<\/td>\n",
       "      <td>Competitive prices<\/td>\n",
       "      <td>Shipping speed and reliability<\/td>\n",
       "    <\/tr>\n",
       "    <tr>\n",
       "      <th>8<\/th>\n",
       "      <td>2023\/06\/04 7:23:21 PM GMT+5:30<\/td>\n",
       "      <td>20<\/td>\n",
       "      <td>Female<\/td>\n",
       "      <td>Less than once a month<\/td>\n",
       "      <td>Beauty and Personal Care;Clothing and Fashion<\/td>\n",
       "      <td>Sometimes<\/td>\n",
       "      <td>Few times a month<\/td>\n",
       "      <td>Keyword<\/td>\n",
       "      <td>First page<\/td>\n",
       "      <td>1<\/td>\n",
       "      <td>...<\/td>\n",
       "      <td>Often<\/td>\n",
       "      <td>No<\/td>\n",
       "      <td>Moderately<\/td>\n",
       "      <td>Yes<\/td>\n",
       "      <td>2<\/td>\n",
       "      <td>Yes<\/td>\n",
       "      <td>2<\/td>\n",
       "      <td>2<\/td>\n",
       "      <td>Wide product selection<\/td>\n",
       "      <td>Reducing packaging waste<\/td>\n",
       "    <\/tr>\n",
       "    <tr>\n",
       "      <th>9<\/th>\n",
       "      <td>2023\/06\/04 7:33:12 PM GMT+5:30<\/td>\n",
       "      <td>23<\/td>\n",
       "      <td>Female<\/td>\n",
       "      <td>Less than once a month<\/td>\n",
       "      <td>Beauty and Personal Care;Clothing and Fashion<\/td>\n",
       "      <td>No<\/td>\n",
       "      <td>Rarely<\/td>\n",
       "      <td>Keyword<\/td>\n",
       "      <td>Multiple pages<\/td>\n",
       "      <td>1<\/td>\n",
       "      <td>...<\/td>\n",
       "      <td>Rarely<\/td>\n",
       "      <td>No<\/td>\n",
       "      <td>Heavily<\/td>\n",
       "      <td>Yes<\/td>\n",
       "      <td>3<\/td>\n",
       "      <td>Yes<\/td>\n",
       "      <td>3<\/td>\n",
       "      <td>4<\/td>\n",
       "      <td>Wide product selection<\/td>\n",
       "      <td>Product quality and accuracy<\/td>\n",
       "    <\/tr>\n",
       "  <\/tbody>\n",
       "<\/table>\n",
       "<p>10 rows × 23 columns<\/p>\n",
       "<\/div>"
      ]
     },
     "metadata":{
      
     },
     "output_type":"display_data"
    }
   ],
   "metadata":{
    "datalore":{
     "node_id":"2BInYezbqTVAwlmfvWR6BP",
     "type":"CODE",
     "hide_input_from_viewers":true,
     "hide_output_from_viewers":true
    }
   }
  },
  {
   "cell_type":"markdown",
   "source":[
    "**1.4 Check data's shape**"
   ],
   "attachments":{
    
   },
   "metadata":{
    "datalore":{
     "node_id":"iJgvmkXDJ0v6LZ63Rs7DJx",
     "type":"MD",
     "hide_input_from_viewers":true,
     "hide_output_from_viewers":true
    }
   }
  },
  {
   "cell_type":"code",
   "source":[
    "df.shape"
   ],
   "execution_count":65,
   "outputs":[
    {
     "data":{
      "text\/plain":[
       "(602, 23)"
      ]
     },
     "metadata":{
      
     },
     "output_type":"display_data"
    }
   ],
   "metadata":{
    "datalore":{
     "node_id":"4ZzdVz8d97zC9kIN1jaiUb",
     "type":"CODE",
     "hide_input_from_viewers":true,
     "hide_output_from_viewers":true
    }
   }
  },
  {
   "cell_type":"markdown",
   "source":[
    "**1.5 Check data's information**"
   ],
   "attachments":{
    
   },
   "metadata":{
    "datalore":{
     "node_id":"x91Oc8UKNoZx9tGAcq4wSP",
     "type":"MD",
     "hide_input_from_viewers":true,
     "hide_output_from_viewers":true
    }
   }
  },
  {
   "cell_type":"code",
   "source":[
    "df.info()"
   ],
   "execution_count":66,
   "outputs":[
    {
     "name":"stdout",
     "text":[
      "<class 'pandas.core.frame.DataFrame'>\n",
      "RangeIndex: 602 entries, 0 to 601\n",
      "Data columns (total 23 columns):\n",
      " #   Column                                  Non-Null Count  Dtype \n",
      "---  ------                                  --------------  ----- \n",
      " 0   Timestamp                               602 non-null    object\n",
      " 1   age                                     602 non-null    int64 \n",
      " 2   Gender                                  602 non-null    object\n",
      " 3   Purchase_Frequency                      602 non-null    object\n",
      " 4   Purchase_Categories                     602 non-null    object\n",
      " 5   Personalized_Recommendation_Frequency   602 non-null    object\n",
      " 6   Browsing_Frequency                      602 non-null    object\n",
      " 7   Product_Search_Method                   600 non-null    object\n",
      " 8   Search_Result_Exploration               602 non-null    object\n",
      " 9   Customer_Reviews_Importance             602 non-null    int64 \n",
      " 10  Add_to_Cart_Browsing                    602 non-null    object\n",
      " 11  Cart_Completion_Frequency               602 non-null    object\n",
      " 12  Cart_Abandonment_Factors                602 non-null    object\n",
      " 13  Saveforlater_Frequency                  602 non-null    object\n",
      " 14  Review_Left                             602 non-null    object\n",
      " 15  Review_Reliability                      602 non-null    object\n",
      " 16  Review_Helpfulness                      602 non-null    object\n",
      " 17  Personalized_Recommendation_Frequency   602 non-null    int64 \n",
      " 18  Recommendation_Helpfulness              602 non-null    object\n",
      " 19  Rating_Accuracy                         602 non-null    int64 \n",
      " 20  Shopping_Satisfaction                   602 non-null    int64 \n",
      " 21  Service_Appreciation                    602 non-null    object\n",
      " 22  Improvement_Areas                       602 non-null    object\n",
      "dtypes: int64(5), object(18)\n",
      "memory usage: 108.3+ KB\n"
     ],
     "output_type":"stream"
    }
   ],
   "metadata":{
    "datalore":{
     "node_id":"XGLZv5Y0a4wA5GbolBczJh",
     "type":"CODE",
     "hide_input_from_viewers":true,
     "hide_output_from_viewers":true
    }
   }
  },
  {
   "cell_type":"markdown",
   "source":[
    "-> 'Product_Search_Method' has missing value \n",
    "\n",
    "**1.6 Check the rows that have missing value**"
   ],
   "attachments":{
    
   },
   "metadata":{
    "datalore":{
     "node_id":"c9pork8LSay1mwA3bSodTP",
     "type":"MD",
     "hide_input_from_viewers":true,
     "hide_output_from_viewers":true
    }
   }
  },
  {
   "cell_type":"code",
   "source":[
    "df[ df['Product_Search_Method'].isna() ]"
   ],
   "execution_count":67,
   "outputs":[
    {
     "data":{
      "text\/html":[
       "<div>\n",
       "<style scoped>\n",
       "    .dataframe tbody tr th:only-of-type {\n",
       "        vertical-align: middle;\n",
       "    }\n",
       "\n",
       "    .dataframe tbody tr th {\n",
       "        vertical-align: top;\n",
       "    }\n",
       "\n",
       "    .dataframe thead th {\n",
       "        text-align: right;\n",
       "    }\n",
       "<\/style>\n",
       "<table border=\"1\" class=\"dataframe\">\n",
       "  <thead>\n",
       "    <tr style=\"text-align: right;\">\n",
       "      <th><\/th>\n",
       "      <th>Timestamp<\/th>\n",
       "      <th>age<\/th>\n",
       "      <th>Gender<\/th>\n",
       "      <th>Purchase_Frequency<\/th>\n",
       "      <th>Purchase_Categories<\/th>\n",
       "      <th>Personalized_Recommendation_Frequency<\/th>\n",
       "      <th>Browsing_Frequency<\/th>\n",
       "      <th>Product_Search_Method<\/th>\n",
       "      <th>Search_Result_Exploration<\/th>\n",
       "      <th>Customer_Reviews_Importance<\/th>\n",
       "      <th>...<\/th>\n",
       "      <th>Saveforlater_Frequency<\/th>\n",
       "      <th>Review_Left<\/th>\n",
       "      <th>Review_Reliability<\/th>\n",
       "      <th>Review_Helpfulness<\/th>\n",
       "      <th>Personalized_Recommendation_Frequency<\/th>\n",
       "      <th>Recommendation_Helpfulness<\/th>\n",
       "      <th>Rating_Accuracy<\/th>\n",
       "      <th>Shopping_Satisfaction<\/th>\n",
       "      <th>Service_Appreciation<\/th>\n",
       "      <th>Improvement_Areas<\/th>\n",
       "    <\/tr>\n",
       "  <\/thead>\n",
       "  <tbody>\n",
       "    <tr>\n",
       "      <th>119<\/th>\n",
       "      <td>2023\/06\/06 2:07:12 PM GMT+5:30<\/td>\n",
       "      <td>21<\/td>\n",
       "      <td>Female<\/td>\n",
       "      <td>Once a month<\/td>\n",
       "      <td>Clothing and Fashion<\/td>\n",
       "      <td>Sometimes<\/td>\n",
       "      <td>Few times a week<\/td>\n",
       "      <td>NaN<\/td>\n",
       "      <td>Multiple pages<\/td>\n",
       "      <td>3<\/td>\n",
       "      <td>...<\/td>\n",
       "      <td>Often<\/td>\n",
       "      <td>No<\/td>\n",
       "      <td>Moderately<\/td>\n",
       "      <td>Sometimes<\/td>\n",
       "      <td>3<\/td>\n",
       "      <td>Sometimes<\/td>\n",
       "      <td>3<\/td>\n",
       "      <td>3<\/td>\n",
       "      <td>User-friendly website\/app interface<\/td>\n",
       "      <td>Customer service responsiveness<\/td>\n",
       "    <\/tr>\n",
       "    <tr>\n",
       "      <th>382<\/th>\n",
       "      <td>2023\/06\/08 5:49:59 PM GMT+5:30<\/td>\n",
       "      <td>47<\/td>\n",
       "      <td>Female<\/td>\n",
       "      <td>Few times a month<\/td>\n",
       "      <td>Beauty and Personal Care;Clothing and Fashion;...<\/td>\n",
       "      <td>No<\/td>\n",
       "      <td>Multiple times a day<\/td>\n",
       "      <td>NaN<\/td>\n",
       "      <td>Multiple pages<\/td>\n",
       "      <td>1<\/td>\n",
       "      <td>...<\/td>\n",
       "      <td>Often<\/td>\n",
       "      <td>No<\/td>\n",
       "      <td>Moderately<\/td>\n",
       "      <td>No<\/td>\n",
       "      <td>2<\/td>\n",
       "      <td>No<\/td>\n",
       "      <td>3<\/td>\n",
       "      <td>2<\/td>\n",
       "      <td>Wide product selection<\/td>\n",
       "      <td>Shipping speed and reliability<\/td>\n",
       "    <\/tr>\n",
       "  <\/tbody>\n",
       "<\/table>\n",
       "<p>2 rows × 23 columns<\/p>\n",
       "<\/div>"
      ]
     },
     "metadata":{
      
     },
     "output_type":"display_data"
    }
   ],
   "metadata":{
    "datalore":{
     "node_id":"jIkN7ShgmqnUJaiAgxl31g",
     "type":"CODE",
     "hide_input_from_viewers":true,
     "hide_output_from_viewers":true
    }
   }
  },
  {
   "cell_type":"markdown",
   "source":[
    "**1.7 Find the most frequent Product Search Method**"
   ],
   "attachments":{
    
   },
   "metadata":{
    "datalore":{
     "node_id":"p9R463T6uAyoS8YwDI85Tx",
     "type":"MD",
     "hide_input_from_viewers":true,
     "hide_output_from_viewers":true
    }
   }
  },
  {
   "cell_type":"code",
   "source":[
    "df['Product_Search_Method'].value_counts()"
   ],
   "execution_count":68,
   "outputs":[
    {
     "data":{
      "text\/html":[
       "<pre>categories    223\n",
       "Keyword       214\n",
       "Filter        127\n",
       "others         36\n",
       "Name: Product_Search_Method, dtype: int64<\/pre>"
      ]
     },
     "metadata":{
      
     },
     "output_type":"display_data"
    }
   ],
   "metadata":{
    "datalore":{
     "node_id":"o1YFQxQfrDMYx3bYNSHhhf",
     "type":"CODE",
     "hide_input_from_viewers":true,
     "hide_output_from_viewers":true
    }
   }
  },
  {
   "cell_type":"markdown",
   "source":[
    "**1.8 Fill missing value by the most frequent value: 'categories'**"
   ],
   "attachments":{
    
   },
   "metadata":{
    "datalore":{
     "node_id":"O3pXt1MNWNM8DMQM2LrXAY",
     "type":"MD",
     "hide_input_from_viewers":true,
     "hide_output_from_viewers":true
    }
   }
  },
  {
   "cell_type":"code",
   "source":[
    "value = df['Product_Search_Method'].mode()[0]\n",
    "df.fillna(value, inplace=True)"
   ],
   "execution_count":69,
   "outputs":[
    
   ],
   "metadata":{
    "datalore":{
     "node_id":"HjDTNb3fPjknsKbZmzz6xQ",
     "type":"CODE",
     "hide_input_from_viewers":true,
     "hide_output_from_viewers":true
    }
   }
  },
  {
   "cell_type":"markdown",
   "source":[
    "**1.9 Check data's information again**"
   ],
   "attachments":{
    
   },
   "metadata":{
    "datalore":{
     "node_id":"OksFt9embu1Q923wB5hJP1",
     "type":"MD",
     "hide_input_from_viewers":true,
     "hide_output_from_viewers":true
    }
   }
  },
  {
   "cell_type":"code",
   "source":[
    "df.info()"
   ],
   "execution_count":70,
   "outputs":[
    {
     "name":"stdout",
     "text":[
      "<class 'pandas.core.frame.DataFrame'>\n",
      "RangeIndex: 602 entries, 0 to 601\n",
      "Data columns (total 23 columns):\n",
      " #   Column                                  Non-Null Count  Dtype \n",
      "---  ------                                  --------------  ----- \n",
      " 0   Timestamp                               602 non-null    object\n",
      " 1   age                                     602 non-null    int64 \n",
      " 2   Gender                                  602 non-null    object\n",
      " 3   Purchase_Frequency                      602 non-null    object\n",
      " 4   Purchase_Categories                     602 non-null    object\n",
      " 5   Personalized_Recommendation_Frequency   602 non-null    object\n",
      " 6   Browsing_Frequency                      602 non-null    object\n",
      " 7   Product_Search_Method                   602 non-null    object\n",
      " 8   Search_Result_Exploration               602 non-null    object\n",
      " 9   Customer_Reviews_Importance             602 non-null    int64 \n",
      " 10  Add_to_Cart_Browsing                    602 non-null    object\n",
      " 11  Cart_Completion_Frequency               602 non-null    object\n",
      " 12  Cart_Abandonment_Factors                602 non-null    object\n",
      " 13  Saveforlater_Frequency                  602 non-null    object\n",
      " 14  Review_Left                             602 non-null    object\n",
      " 15  Review_Reliability                      602 non-null    object\n",
      " 16  Review_Helpfulness                      602 non-null    object\n",
      " 17  Personalized_Recommendation_Frequency   602 non-null    int64 \n",
      " 18  Recommendation_Helpfulness              602 non-null    object\n",
      " 19  Rating_Accuracy                         602 non-null    int64 \n",
      " 20  Shopping_Satisfaction                   602 non-null    int64 \n",
      " 21  Service_Appreciation                    602 non-null    object\n",
      " 22  Improvement_Areas                       602 non-null    object\n",
      "dtypes: int64(5), object(18)\n",
      "memory usage: 108.3+ KB\n"
     ],
     "output_type":"stream"
    }
   ],
   "metadata":{
    "datalore":{
     "node_id":"h3BoaZ12q07qx96LG3HU4S",
     "type":"CODE",
     "hide_input_from_viewers":true,
     "hide_output_from_viewers":true
    }
   }
  },
  {
   "cell_type":"markdown",
   "source":[
    "**1.10 Split age groups into different age ranges and replace specific age numbers with age range numbers.**"
   ],
   "attachments":{
    
   },
   "metadata":{
    "datalore":{
     "node_id":"517iYFfJhJ2TWsHqL64CeF",
     "type":"MD",
     "hide_input_from_viewers":true,
     "hide_output_from_viewers":true
    }
   }
  },
  {
   "cell_type":"code",
   "source":[
    "#split age groups into different \n",
    "bins = [0, 20, 25, 35, 45, 55, float('inf')]\n",
    "labels = ['0-19', '20-25', '26-35', '36-45', '46-55', '55+']\n",
    "\n",
    "#replace specific age numbers with age range numbers\n",
    "df['age'] = pd.cut(df['age'], bins=bins, labels=labels, right=False)\n",
    "\n",
    "df.head(10)"
   ],
   "execution_count":71,
   "outputs":[
    {
     "data":{
      "text\/html":[
       "<div>\n",
       "<style scoped>\n",
       "    .dataframe tbody tr th:only-of-type {\n",
       "        vertical-align: middle;\n",
       "    }\n",
       "\n",
       "    .dataframe tbody tr th {\n",
       "        vertical-align: top;\n",
       "    }\n",
       "\n",
       "    .dataframe thead th {\n",
       "        text-align: right;\n",
       "    }\n",
       "<\/style>\n",
       "<table border=\"1\" class=\"dataframe\">\n",
       "  <thead>\n",
       "    <tr style=\"text-align: right;\">\n",
       "      <th><\/th>\n",
       "      <th>Timestamp<\/th>\n",
       "      <th>age<\/th>\n",
       "      <th>Gender<\/th>\n",
       "      <th>Purchase_Frequency<\/th>\n",
       "      <th>Purchase_Categories<\/th>\n",
       "      <th>Personalized_Recommendation_Frequency<\/th>\n",
       "      <th>Browsing_Frequency<\/th>\n",
       "      <th>Product_Search_Method<\/th>\n",
       "      <th>Search_Result_Exploration<\/th>\n",
       "      <th>Customer_Reviews_Importance<\/th>\n",
       "      <th>...<\/th>\n",
       "      <th>Saveforlater_Frequency<\/th>\n",
       "      <th>Review_Left<\/th>\n",
       "      <th>Review_Reliability<\/th>\n",
       "      <th>Review_Helpfulness<\/th>\n",
       "      <th>Personalized_Recommendation_Frequency<\/th>\n",
       "      <th>Recommendation_Helpfulness<\/th>\n",
       "      <th>Rating_Accuracy<\/th>\n",
       "      <th>Shopping_Satisfaction<\/th>\n",
       "      <th>Service_Appreciation<\/th>\n",
       "      <th>Improvement_Areas<\/th>\n",
       "    <\/tr>\n",
       "  <\/thead>\n",
       "  <tbody>\n",
       "    <tr>\n",
       "      <th>0<\/th>\n",
       "      <td>2023\/06\/04 1:28:19 PM GMT+5:30<\/td>\n",
       "      <td>20-25<\/td>\n",
       "      <td>Female<\/td>\n",
       "      <td>Few times a month<\/td>\n",
       "      <td>Beauty and Personal Care<\/td>\n",
       "      <td>Yes<\/td>\n",
       "      <td>Few times a week<\/td>\n",
       "      <td>Keyword<\/td>\n",
       "      <td>Multiple pages<\/td>\n",
       "      <td>1<\/td>\n",
       "      <td>...<\/td>\n",
       "      <td>Sometimes<\/td>\n",
       "      <td>Yes<\/td>\n",
       "      <td>Occasionally<\/td>\n",
       "      <td>Yes<\/td>\n",
       "      <td>2<\/td>\n",
       "      <td>Yes<\/td>\n",
       "      <td>1<\/td>\n",
       "      <td>1<\/td>\n",
       "      <td>Competitive prices<\/td>\n",
       "      <td>Reducing packaging waste<\/td>\n",
       "    <\/tr>\n",
       "    <tr>\n",
       "      <th>1<\/th>\n",
       "      <td>2023\/06\/04 2:30:44 PM GMT+5:30<\/td>\n",
       "      <td>20-25<\/td>\n",
       "      <td>Female<\/td>\n",
       "      <td>Once a month<\/td>\n",
       "      <td>Clothing and Fashion<\/td>\n",
       "      <td>Yes<\/td>\n",
       "      <td>Few times a month<\/td>\n",
       "      <td>Keyword<\/td>\n",
       "      <td>Multiple pages<\/td>\n",
       "      <td>1<\/td>\n",
       "      <td>...<\/td>\n",
       "      <td>Rarely<\/td>\n",
       "      <td>No<\/td>\n",
       "      <td>Heavily<\/td>\n",
       "      <td>Yes<\/td>\n",
       "      <td>2<\/td>\n",
       "      <td>Sometimes<\/td>\n",
       "      <td>3<\/td>\n",
       "      <td>2<\/td>\n",
       "      <td>Wide product selection<\/td>\n",
       "      <td>Reducing packaging waste<\/td>\n",
       "    <\/tr>\n",
       "    <tr>\n",
       "      <th>2<\/th>\n",
       "      <td>2023\/06\/04 5:04:56 PM GMT+5:30<\/td>\n",
       "      <td>20-25<\/td>\n",
       "      <td>Prefer not to say<\/td>\n",
       "      <td>Few times a month<\/td>\n",
       "      <td>Groceries and Gourmet Food;Clothing and Fashion<\/td>\n",
       "      <td>No<\/td>\n",
       "      <td>Few times a month<\/td>\n",
       "      <td>Keyword<\/td>\n",
       "      <td>Multiple pages<\/td>\n",
       "      <td>2<\/td>\n",
       "      <td>...<\/td>\n",
       "      <td>Rarely<\/td>\n",
       "      <td>No<\/td>\n",
       "      <td>Occasionally<\/td>\n",
       "      <td>No<\/td>\n",
       "      <td>4<\/td>\n",
       "      <td>No<\/td>\n",
       "      <td>3<\/td>\n",
       "      <td>3<\/td>\n",
       "      <td>Competitive prices<\/td>\n",
       "      <td>Product quality and accuracy<\/td>\n",
       "    <\/tr>\n",
       "    <tr>\n",
       "      <th>3<\/th>\n",
       "      <td>2023\/06\/04 5:13:00 PM GMT+5:30<\/td>\n",
       "      <td>20-25<\/td>\n",
       "      <td>Female<\/td>\n",
       "      <td>Once a month<\/td>\n",
       "      <td>Beauty and Personal Care;Clothing and Fashion;...<\/td>\n",
       "      <td>Sometimes<\/td>\n",
       "      <td>Few times a month<\/td>\n",
       "      <td>Keyword<\/td>\n",
       "      <td>First page<\/td>\n",
       "      <td>5<\/td>\n",
       "      <td>...<\/td>\n",
       "      <td>Sometimes<\/td>\n",
       "      <td>Yes<\/td>\n",
       "      <td>Heavily<\/td>\n",
       "      <td>Yes<\/td>\n",
       "      <td>3<\/td>\n",
       "      <td>Sometimes<\/td>\n",
       "      <td>3<\/td>\n",
       "      <td>4<\/td>\n",
       "      <td>Competitive prices<\/td>\n",
       "      <td>Product quality and accuracy<\/td>\n",
       "    <\/tr>\n",
       "    <tr>\n",
       "      <th>4<\/th>\n",
       "      <td>2023\/06\/04 5:28:06 PM GMT+5:30<\/td>\n",
       "      <td>20-25<\/td>\n",
       "      <td>Female<\/td>\n",
       "      <td>Less than once a month<\/td>\n",
       "      <td>Beauty and Personal Care;Clothing and Fashion<\/td>\n",
       "      <td>Yes<\/td>\n",
       "      <td>Few times a month<\/td>\n",
       "      <td>Filter<\/td>\n",
       "      <td>Multiple pages<\/td>\n",
       "      <td>1<\/td>\n",
       "      <td>...<\/td>\n",
       "      <td>Rarely<\/td>\n",
       "      <td>No<\/td>\n",
       "      <td>Heavily<\/td>\n",
       "      <td>Yes<\/td>\n",
       "      <td>4<\/td>\n",
       "      <td>Yes<\/td>\n",
       "      <td>2<\/td>\n",
       "      <td>2<\/td>\n",
       "      <td>Competitive prices<\/td>\n",
       "      <td>Product quality and accuracy<\/td>\n",
       "    <\/tr>\n",
       "    <tr>\n",
       "      <th>5<\/th>\n",
       "      <td>2023\/06\/04 6:01:59 PM GMT+5:30<\/td>\n",
       "      <td>20-25<\/td>\n",
       "      <td>Female<\/td>\n",
       "      <td>Less than once a month<\/td>\n",
       "      <td>Clothing and Fashion<\/td>\n",
       "      <td>No<\/td>\n",
       "      <td>Rarely<\/td>\n",
       "      <td>categories<\/td>\n",
       "      <td>Multiple pages<\/td>\n",
       "      <td>1<\/td>\n",
       "      <td>...<\/td>\n",
       "      <td>Never<\/td>\n",
       "      <td>No<\/td>\n",
       "      <td>Heavily<\/td>\n",
       "      <td>Yes<\/td>\n",
       "      <td>5<\/td>\n",
       "      <td>No<\/td>\n",
       "      <td>5<\/td>\n",
       "      <td>2<\/td>\n",
       "      <td>Wide product selection<\/td>\n",
       "      <td>Product quality and accuracy<\/td>\n",
       "    <\/tr>\n",
       "    <tr>\n",
       "      <th>6<\/th>\n",
       "      <td>2023\/06\/04 6:31:41 PM GMT+5:30<\/td>\n",
       "      <td>20-25<\/td>\n",
       "      <td>Female<\/td>\n",
       "      <td>Less than once a month<\/td>\n",
       "      <td>Clothing and Fashion<\/td>\n",
       "      <td>No<\/td>\n",
       "      <td>Rarely<\/td>\n",
       "      <td>Filter<\/td>\n",
       "      <td>Multiple pages<\/td>\n",
       "      <td>1<\/td>\n",
       "      <td>...<\/td>\n",
       "      <td>Rarely<\/td>\n",
       "      <td>No<\/td>\n",
       "      <td>Heavily<\/td>\n",
       "      <td>Yes<\/td>\n",
       "      <td>3<\/td>\n",
       "      <td>Sometimes<\/td>\n",
       "      <td>3<\/td>\n",
       "      <td>3<\/td>\n",
       "      <td>Wide product selection<\/td>\n",
       "      <td>Shipping speed and reliability<\/td>\n",
       "    <\/tr>\n",
       "    <tr>\n",
       "      <th>7<\/th>\n",
       "      <td>2023\/06\/04 7:13:12 PM GMT+5:30<\/td>\n",
       "      <td>20-25<\/td>\n",
       "      <td>Female<\/td>\n",
       "      <td>Few times a month<\/td>\n",
       "      <td>Beauty and Personal Care;Clothing and Fashion<\/td>\n",
       "      <td>No<\/td>\n",
       "      <td>Rarely<\/td>\n",
       "      <td>Keyword<\/td>\n",
       "      <td>Multiple pages<\/td>\n",
       "      <td>1<\/td>\n",
       "      <td>...<\/td>\n",
       "      <td>Rarely<\/td>\n",
       "      <td>No<\/td>\n",
       "      <td>Heavily<\/td>\n",
       "      <td>Sometimes<\/td>\n",
       "      <td>3<\/td>\n",
       "      <td>Sometimes<\/td>\n",
       "      <td>1<\/td>\n",
       "      <td>3<\/td>\n",
       "      <td>Competitive prices<\/td>\n",
       "      <td>Shipping speed and reliability<\/td>\n",
       "    <\/tr>\n",
       "    <tr>\n",
       "      <th>8<\/th>\n",
       "      <td>2023\/06\/04 7:23:21 PM GMT+5:30<\/td>\n",
       "      <td>20-25<\/td>\n",
       "      <td>Female<\/td>\n",
       "      <td>Less than once a month<\/td>\n",
       "      <td>Beauty and Personal Care;Clothing and Fashion<\/td>\n",
       "      <td>Sometimes<\/td>\n",
       "      <td>Few times a month<\/td>\n",
       "      <td>Keyword<\/td>\n",
       "      <td>First page<\/td>\n",
       "      <td>1<\/td>\n",
       "      <td>...<\/td>\n",
       "      <td>Often<\/td>\n",
       "      <td>No<\/td>\n",
       "      <td>Moderately<\/td>\n",
       "      <td>Yes<\/td>\n",
       "      <td>2<\/td>\n",
       "      <td>Yes<\/td>\n",
       "      <td>2<\/td>\n",
       "      <td>2<\/td>\n",
       "      <td>Wide product selection<\/td>\n",
       "      <td>Reducing packaging waste<\/td>\n",
       "    <\/tr>\n",
       "    <tr>\n",
       "      <th>9<\/th>\n",
       "      <td>2023\/06\/04 7:33:12 PM GMT+5:30<\/td>\n",
       "      <td>20-25<\/td>\n",
       "      <td>Female<\/td>\n",
       "      <td>Less than once a month<\/td>\n",
       "      <td>Beauty and Personal Care;Clothing and Fashion<\/td>\n",
       "      <td>No<\/td>\n",
       "      <td>Rarely<\/td>\n",
       "      <td>Keyword<\/td>\n",
       "      <td>Multiple pages<\/td>\n",
       "      <td>1<\/td>\n",
       "      <td>...<\/td>\n",
       "      <td>Rarely<\/td>\n",
       "      <td>No<\/td>\n",
       "      <td>Heavily<\/td>\n",
       "      <td>Yes<\/td>\n",
       "      <td>3<\/td>\n",
       "      <td>Yes<\/td>\n",
       "      <td>3<\/td>\n",
       "      <td>4<\/td>\n",
       "      <td>Wide product selection<\/td>\n",
       "      <td>Product quality and accuracy<\/td>\n",
       "    <\/tr>\n",
       "  <\/tbody>\n",
       "<\/table>\n",
       "<p>10 rows × 23 columns<\/p>\n",
       "<\/div>"
      ]
     },
     "metadata":{
      
     },
     "output_type":"display_data"
    }
   ],
   "metadata":{
    "datalore":{
     "node_id":"BeP3NrxWq5aNEEE1PX1OWq",
     "type":"CODE",
     "hide_input_from_viewers":true,
     "hide_output_from_viewers":true
    }
   }
  },
  {
   "cell_type":"markdown",
   "source":[
    "## I have 10 business questions regarding the data set.\n",
    "\n",
    "1. What are the most popular age groups among consumers?\n",
    "\n",
    "2. How frequently do consumers make purchases?\n",
    "\n",
    "3. What are the most consumer-appreciated services?\n",
    "\n",
    "4. What are the most popular product categories among consumers?\n",
    "\n",
    "5. What are the most common factors that influence consumer abandonment?\n",
    "\n",
    "6. Show the purchase frequency of consumers by category\n",
    "\n",
    "7. Show the number of cart abandon factors by age group\n",
    "\n",
    "8. What are the most popular product search methods among consumers?\n",
    "\n",
    "9. What are the most ratings from consumer's shopping experience on Amazon?\n",
    "\n",
    "10. How satisfied are consumers with their shopping experience overall?"
   ],
   "attachments":{
    
   },
   "metadata":{
    "datalore":{
     "node_id":"NhSHRTJ0uy8PVS4FzOCso3",
     "type":"MD",
     "hide_input_from_viewers":true,
     "hide_output_from_viewers":true
    }
   }
  },
  {
   "cell_type":"markdown",
   "source":[
    "# 2. Data Analysis"
   ],
   "attachments":{
    
   },
   "metadata":{
    "datalore":{
     "node_id":"ACVLXG46LMtGle5U22eU0q",
     "type":"MD",
     "hide_input_from_viewers":true,
     "hide_output_from_viewers":true
    }
   }
  },
  {
   "cell_type":"markdown",
   "source":[
    "**2.1 What are the most popular age groups among consumers?**"
   ],
   "attachments":{
    
   },
   "metadata":{
    "datalore":{
     "node_id":"isvf3uoohR5ljlncrfeyFK",
     "type":"MD",
     "hide_input_from_viewers":true,
     "hide_output_from_viewers":true
    }
   }
  },
  {
   "cell_type":"code",
   "source":[
    "df_age_count = df.groupby('age')['age'].count()\n",
    "df_age_count.plot.pie(autopct=\"%.1f%%\", figsize=(11, 6), title = 'Consumer Age').set_ylabel('')"
   ],
   "execution_count":72,
   "outputs":[
    {
     "data":{
      "text\/plain":[
       "Text(0, 0.5, '')"
      ]
     },
     "metadata":{
      
     },
     "output_type":"display_data"
    },
    {
     "data":{
      "image\/png":"[encoded data removed]"
     },
     "metadata":{
      "image\/png":{
       
      }
     },
     "output_type":"display_data"
    }
   ],
   "metadata":{
    "datalore":{
     "node_id":"qH3Ilo6TtK7pNGvfuOZVbN",
     "type":"CODE",
     "hide_input_from_viewers":true,
     "hide_output_from_viewers":true
    }
   }
  },
  {
   "cell_type":"markdown",
   "source":[
    "**2.2 How frequently do consumers make purchases?**"
   ],
   "attachments":{
    
   },
   "metadata":{
    "datalore":{
     "node_id":"kngCmeERvVdugBEWKeWczh",
     "type":"MD",
     "hide_input_from_viewers":true,
     "hide_output_from_viewers":true
    }
   }
  },
  {
   "cell_type":"code",
   "source":[
    "df_purchase_frequency = df.groupby('Purchase_Frequency')['Purchase_Frequency'].count()\n",
    "df_purchase_frequency.plot.pie(autopct=\"%.1f%%\", figsize=(11, 6), title = 'Purchase Frequency').set_ylabel('')"
   ],
   "execution_count":73,
   "outputs":[
    {
     "data":{
      "text\/plain":[
       "Text(0, 0.5, '')"
      ]
     },
     "metadata":{
      
     },
     "output_type":"display_data"
    },
    {
     "data":{
      "image\/png":"[encoded data removed]"
     },
     "metadata":{
      "image\/png":{
       
      }
     },
     "output_type":"display_data"
    }
   ],
   "metadata":{
    "datalore":{
     "node_id":"1hUR2hZYY75IXt6wLt7KCK",
     "type":"CODE",
     "hide_input_from_viewers":true,
     "hide_output_from_viewers":true
    }
   }
  },
  {
   "cell_type":"markdown",
   "source":[
    "**2.3 What are the most consumer-appreciated services?**"
   ],
   "attachments":{
    
   },
   "metadata":{
    "datalore":{
     "node_id":"JXVGQmEwmpay6syXr0QB2Z",
     "type":"MD",
     "hide_input_from_viewers":true,
     "hide_output_from_viewers":true
    }
   }
  },
  {
   "cell_type":"code",
   "source":[
    "df_Service_Appreciation = df.groupby('Service_Appreciation')['Service_Appreciation'].count()\n",
    "df_Service_Appreciation.plot.pie(autopct=\"%.1f%%\", figsize=(11, 6), title = 'Service Appreciation').set_ylabel('')"
   ],
   "execution_count":13,
   "outputs":[
    {
     "data":{
      "text\/plain":[
       "Text(0, 0.5, '')"
      ]
     },
     "metadata":{
      
     },
     "output_type":"display_data"
    },
    {
     "data":{
      "image\/png":"[encoded data removed]"
     },
     "metadata":{
      "image\/png":{
       
      }
     },
     "output_type":"display_data"
    }
   ],
   "metadata":{
    "datalore":{
     "node_id":"Ek9Fa31ICeYb8fWTBE8paR",
     "type":"CODE",
     "hide_input_from_viewers":true,
     "hide_output_from_viewers":true
    }
   }
  },
  {
   "cell_type":"markdown",
   "source":[
    "**2.4. What are the most popular product categories among consumers?**"
   ],
   "attachments":{
    
   },
   "metadata":{
    "datalore":{
     "node_id":"pvOI2cWBSE63rz8cyUWC2i",
     "type":"MD",
     "hide_input_from_viewers":true,
     "hide_output_from_viewers":true
    }
   }
  },
  {
   "cell_type":"code",
   "source":[
    "df_purchase_categories = df['Purchase_Categories'].value_counts().sort_values(ascending=False).head(10).reset_index()\n",
    "df_purchase_categories"
   ],
   "execution_count":74,
   "outputs":[
    {
     "data":{
      "text\/html":[
       "<div>\n",
       "<style scoped>\n",
       "    .dataframe tbody tr th:only-of-type {\n",
       "        vertical-align: middle;\n",
       "    }\n",
       "\n",
       "    .dataframe tbody tr th {\n",
       "        vertical-align: top;\n",
       "    }\n",
       "\n",
       "    .dataframe thead th {\n",
       "        text-align: right;\n",
       "    }\n",
       "<\/style>\n",
       "<table border=\"1\" class=\"dataframe\">\n",
       "  <thead>\n",
       "    <tr style=\"text-align: right;\">\n",
       "      <th><\/th>\n",
       "      <th>index<\/th>\n",
       "      <th>Purchase_Categories<\/th>\n",
       "    <\/tr>\n",
       "  <\/thead>\n",
       "  <tbody>\n",
       "    <tr>\n",
       "      <th>0<\/th>\n",
       "      <td>Beauty and Personal Care<\/td>\n",
       "      <td>106<\/td>\n",
       "    <\/tr>\n",
       "    <tr>\n",
       "      <th>1<\/th>\n",
       "      <td>Clothing and Fashion<\/td>\n",
       "      <td>106<\/td>\n",
       "    <\/tr>\n",
       "    <tr>\n",
       "      <th>2<\/th>\n",
       "      <td>others<\/td>\n",
       "      <td>48<\/td>\n",
       "    <\/tr>\n",
       "    <tr>\n",
       "      <th>3<\/th>\n",
       "      <td>Beauty and Personal Care;Clothing and Fashion<\/td>\n",
       "      <td>46<\/td>\n",
       "    <\/tr>\n",
       "    <tr>\n",
       "      <th>4<\/th>\n",
       "      <td>Beauty and Personal Care;Clothing and Fashion;...<\/td>\n",
       "      <td>42<\/td>\n",
       "    <\/tr>\n",
       "    <tr>\n",
       "      <th>5<\/th>\n",
       "      <td>Groceries and Gourmet Food;Beauty and Personal...<\/td>\n",
       "      <td>32<\/td>\n",
       "    <\/tr>\n",
       "    <tr>\n",
       "      <th>6<\/th>\n",
       "      <td>Clothing and Fashion;Home and Kitchen<\/td>\n",
       "      <td>27<\/td>\n",
       "    <\/tr>\n",
       "    <tr>\n",
       "      <th>7<\/th>\n",
       "      <td>Home and Kitchen<\/td>\n",
       "      <td>24<\/td>\n",
       "    <\/tr>\n",
       "    <tr>\n",
       "      <th>8<\/th>\n",
       "      <td>Beauty and Personal Care;Home and Kitchen<\/td>\n",
       "      <td>21<\/td>\n",
       "    <\/tr>\n",
       "    <tr>\n",
       "      <th>9<\/th>\n",
       "      <td>Clothing and Fashion;Home and Kitchen;others<\/td>\n",
       "      <td>16<\/td>\n",
       "    <\/tr>\n",
       "  <\/tbody>\n",
       "<\/table>\n",
       "<\/div>"
      ]
     },
     "metadata":{
      
     },
     "output_type":"display_data"
    }
   ],
   "metadata":{
    "datalore":{
     "node_id":"Z0FXODcPGhQWoJWo3Wv7NK",
     "type":"CODE",
     "hide_input_from_viewers":true,
     "hide_output_from_viewers":true
    }
   }
  },
  {
   "cell_type":"markdown",
   "source":[
    "**2.5 What are the most common factors that influence consumer abandonment?**\n"
   ],
   "attachments":{
    
   },
   "metadata":{
    "datalore":{
     "node_id":"pda8rMy6lniCmM591fmcfv",
     "type":"MD",
     "hide_input_from_viewers":true,
     "hide_output_from_viewers":true
    }
   }
  },
  {
   "cell_type":"code",
   "source":[
    "df_cart_abandon = df['Cart_Abandonment_Factors'].value_counts().reset_index()\n",
    "df_cart_abandon"
   ],
   "execution_count":75,
   "outputs":[
    {
     "data":{
      "text\/html":[
       "<div>\n",
       "<style scoped>\n",
       "    .dataframe tbody tr th:only-of-type {\n",
       "        vertical-align: middle;\n",
       "    }\n",
       "\n",
       "    .dataframe tbody tr th {\n",
       "        vertical-align: top;\n",
       "    }\n",
       "\n",
       "    .dataframe thead th {\n",
       "        text-align: right;\n",
       "    }\n",
       "<\/style>\n",
       "<table border=\"1\" class=\"dataframe\">\n",
       "  <thead>\n",
       "    <tr style=\"text-align: right;\">\n",
       "      <th><\/th>\n",
       "      <th>index<\/th>\n",
       "      <th>Cart_Abandonment_Factors<\/th>\n",
       "    <\/tr>\n",
       "  <\/thead>\n",
       "  <tbody>\n",
       "    <tr>\n",
       "      <th>0<\/th>\n",
       "      <td>Found a better price elsewhere<\/td>\n",
       "      <td>255<\/td>\n",
       "    <\/tr>\n",
       "    <tr>\n",
       "      <th>1<\/th>\n",
       "      <td>Changed my mind or no longer need the item<\/td>\n",
       "      <td>241<\/td>\n",
       "    <\/tr>\n",
       "    <tr>\n",
       "      <th>2<\/th>\n",
       "      <td>High shipping costs<\/td>\n",
       "      <td>70<\/td>\n",
       "    <\/tr>\n",
       "    <tr>\n",
       "      <th>3<\/th>\n",
       "      <td>others<\/td>\n",
       "      <td>36<\/td>\n",
       "    <\/tr>\n",
       "  <\/tbody>\n",
       "<\/table>\n",
       "<\/div>"
      ]
     },
     "metadata":{
      
     },
     "output_type":"display_data"
    }
   ],
   "metadata":{
    "datalore":{
     "node_id":"Q38fas41T05ptLE2gVCEP9",
     "type":"CODE",
     "hide_input_from_viewers":true,
     "hide_output_from_viewers":true
    }
   }
  },
  {
   "cell_type":"markdown",
   "source":[
    "**2.6 Show the purchase frequency of consumers by category**"
   ],
   "attachments":{
    
   },
   "metadata":{
    "datalore":{
     "node_id":"IcCC28uS7xar3Y9LSgUgWv",
     "type":"MD",
     "hide_input_from_viewers":true,
     "hide_output_from_viewers":true
    }
   }
  },
  {
   "cell_type":"code",
   "source":[
    "df_purchase = pd.crosstab(df['Purchase_Categories'],df['Purchase_Frequency']).reset_index()\n",
    "df_purchase"
   ],
   "execution_count":76,
   "outputs":[
    {
     "data":{
      "text\/html":[
       "<div>\n",
       "<style scoped>\n",
       "    .dataframe tbody tr th:only-of-type {\n",
       "        vertical-align: middle;\n",
       "    }\n",
       "\n",
       "    .dataframe tbody tr th {\n",
       "        vertical-align: top;\n",
       "    }\n",
       "\n",
       "    .dataframe thead th {\n",
       "        text-align: right;\n",
       "    }\n",
       "<\/style>\n",
       "<table border=\"1\" class=\"dataframe\">\n",
       "  <thead>\n",
       "    <tr style=\"text-align: right;\">\n",
       "      <th>Purchase_Frequency<\/th>\n",
       "      <th>Purchase_Categories<\/th>\n",
       "      <th>Few times a month<\/th>\n",
       "      <th>Less than once a month<\/th>\n",
       "      <th>Multiple times a week<\/th>\n",
       "      <th>Once a month<\/th>\n",
       "      <th>Once a week<\/th>\n",
       "    <\/tr>\n",
       "  <\/thead>\n",
       "  <tbody>\n",
       "    <tr>\n",
       "      <th>0<\/th>\n",
       "      <td>Beauty and Personal Care<\/td>\n",
       "      <td>34<\/td>\n",
       "      <td>12<\/td>\n",
       "      <td>15<\/td>\n",
       "      <td>10<\/td>\n",
       "      <td>35<\/td>\n",
       "    <\/tr>\n",
       "    <tr>\n",
       "      <th>1<\/th>\n",
       "      <td>Beauty and Personal Care;Clothing and Fashion<\/td>\n",
       "      <td>20<\/td>\n",
       "      <td>12<\/td>\n",
       "      <td>6<\/td>\n",
       "      <td>3<\/td>\n",
       "      <td>5<\/td>\n",
       "    <\/tr>\n",
       "    <tr>\n",
       "      <th>2<\/th>\n",
       "      <td>Beauty and Personal Care;Clothing and Fashion;...<\/td>\n",
       "      <td>16<\/td>\n",
       "      <td>3<\/td>\n",
       "      <td>11<\/td>\n",
       "      <td>6<\/td>\n",
       "      <td>6<\/td>\n",
       "    <\/tr>\n",
       "    <tr>\n",
       "      <th>3<\/th>\n",
       "      <td>Beauty and Personal Care;Clothing and Fashion;...<\/td>\n",
       "      <td>3<\/td>\n",
       "      <td>0<\/td>\n",
       "      <td>1<\/td>\n",
       "      <td>2<\/td>\n",
       "      <td>2<\/td>\n",
       "    <\/tr>\n",
       "    <tr>\n",
       "      <th>4<\/th>\n",
       "      <td>Beauty and Personal Care;Clothing and Fashion;...<\/td>\n",
       "      <td>5<\/td>\n",
       "      <td>0<\/td>\n",
       "      <td>1<\/td>\n",
       "      <td>4<\/td>\n",
       "      <td>2<\/td>\n",
       "    <\/tr>\n",
       "    <tr>\n",
       "      <th>5<\/th>\n",
       "      <td>Beauty and Personal Care;Home and Kitchen<\/td>\n",
       "      <td>6<\/td>\n",
       "      <td>4<\/td>\n",
       "      <td>2<\/td>\n",
       "      <td>5<\/td>\n",
       "      <td>4<\/td>\n",
       "    <\/tr>\n",
       "    <tr>\n",
       "      <th>6<\/th>\n",
       "      <td>Beauty and Personal Care;Home and Kitchen;others<\/td>\n",
       "      <td>1<\/td>\n",
       "      <td>1<\/td>\n",
       "      <td>0<\/td>\n",
       "      <td>2<\/td>\n",
       "      <td>1<\/td>\n",
       "    <\/tr>\n",
       "    <tr>\n",
       "      <th>7<\/th>\n",
       "      <td>Beauty and Personal Care;others<\/td>\n",
       "      <td>3<\/td>\n",
       "      <td>3<\/td>\n",
       "      <td>0<\/td>\n",
       "      <td>0<\/td>\n",
       "      <td>1<\/td>\n",
       "    <\/tr>\n",
       "    <tr>\n",
       "      <th>8<\/th>\n",
       "      <td>Clothing and Fashion<\/td>\n",
       "      <td>31<\/td>\n",
       "      <td>22<\/td>\n",
       "      <td>3<\/td>\n",
       "      <td>23<\/td>\n",
       "      <td>27<\/td>\n",
       "    <\/tr>\n",
       "    <tr>\n",
       "      <th>9<\/th>\n",
       "      <td>Clothing and Fashion;Home and Kitchen<\/td>\n",
       "      <td>12<\/td>\n",
       "      <td>5<\/td>\n",
       "      <td>2<\/td>\n",
       "      <td>6<\/td>\n",
       "      <td>2<\/td>\n",
       "    <\/tr>\n",
       "    <tr>\n",
       "      <th>10<\/th>\n",
       "      <td>Clothing and Fashion;Home and Kitchen;others<\/td>\n",
       "      <td>8<\/td>\n",
       "      <td>1<\/td>\n",
       "      <td>0<\/td>\n",
       "      <td>4<\/td>\n",
       "      <td>3<\/td>\n",
       "    <\/tr>\n",
       "    <tr>\n",
       "      <th>11<\/th>\n",
       "      <td>Clothing and Fashion;others<\/td>\n",
       "      <td>5<\/td>\n",
       "      <td>3<\/td>\n",
       "      <td>0<\/td>\n",
       "      <td>5<\/td>\n",
       "      <td>1<\/td>\n",
       "    <\/tr>\n",
       "    <tr>\n",
       "      <th>12<\/th>\n",
       "      <td>Groceries and Gourmet Food<\/td>\n",
       "      <td>5<\/td>\n",
       "      <td>0<\/td>\n",
       "      <td>1<\/td>\n",
       "      <td>2<\/td>\n",
       "      <td>6<\/td>\n",
       "    <\/tr>\n",
       "    <tr>\n",
       "      <th>13<\/th>\n",
       "      <td>Groceries and Gourmet Food;Beauty and Personal...<\/td>\n",
       "      <td>4<\/td>\n",
       "      <td>0<\/td>\n",
       "      <td>0<\/td>\n",
       "      <td>2<\/td>\n",
       "      <td>1<\/td>\n",
       "    <\/tr>\n",
       "    <tr>\n",
       "      <th>14<\/th>\n",
       "      <td>Groceries and Gourmet Food;Beauty and Personal...<\/td>\n",
       "      <td>6<\/td>\n",
       "      <td>0<\/td>\n",
       "      <td>2<\/td>\n",
       "      <td>1<\/td>\n",
       "      <td>1<\/td>\n",
       "    <\/tr>\n",
       "    <tr>\n",
       "      <th>15<\/th>\n",
       "      <td>Groceries and Gourmet Food;Beauty and Personal...<\/td>\n",
       "      <td>4<\/td>\n",
       "      <td>2<\/td>\n",
       "      <td>2<\/td>\n",
       "      <td>4<\/td>\n",
       "      <td>2<\/td>\n",
       "    <\/tr>\n",
       "    <tr>\n",
       "      <th>16<\/th>\n",
       "      <td>Groceries and Gourmet Food;Beauty and Personal...<\/td>\n",
       "      <td>9<\/td>\n",
       "      <td>5<\/td>\n",
       "      <td>8<\/td>\n",
       "      <td>6<\/td>\n",
       "      <td>4<\/td>\n",
       "    <\/tr>\n",
       "    <tr>\n",
       "      <th>17<\/th>\n",
       "      <td>Groceries and Gourmet Food;Beauty and Personal...<\/td>\n",
       "      <td>0<\/td>\n",
       "      <td>0<\/td>\n",
       "      <td>0<\/td>\n",
       "      <td>1<\/td>\n",
       "      <td>0<\/td>\n",
       "    <\/tr>\n",
       "    <tr>\n",
       "      <th>18<\/th>\n",
       "      <td>Groceries and Gourmet Food;Beauty and Personal...<\/td>\n",
       "      <td>1<\/td>\n",
       "      <td>1<\/td>\n",
       "      <td>0<\/td>\n",
       "      <td>1<\/td>\n",
       "      <td>1<\/td>\n",
       "    <\/tr>\n",
       "    <tr>\n",
       "      <th>19<\/th>\n",
       "      <td>Groceries and Gourmet Food;Beauty and Personal...<\/td>\n",
       "      <td>0<\/td>\n",
       "      <td>1<\/td>\n",
       "      <td>1<\/td>\n",
       "      <td>0<\/td>\n",
       "      <td>1<\/td>\n",
       "    <\/tr>\n",
       "    <tr>\n",
       "      <th>20<\/th>\n",
       "      <td>Groceries and Gourmet Food;Clothing and Fashion<\/td>\n",
       "      <td>5<\/td>\n",
       "      <td>0<\/td>\n",
       "      <td>0<\/td>\n",
       "      <td>0<\/td>\n",
       "      <td>1<\/td>\n",
       "    <\/tr>\n",
       "    <tr>\n",
       "      <th>21<\/th>\n",
       "      <td>Groceries and Gourmet Food;Clothing and Fashio...<\/td>\n",
       "      <td>2<\/td>\n",
       "      <td>0<\/td>\n",
       "      <td>0<\/td>\n",
       "      <td>1<\/td>\n",
       "      <td>1<\/td>\n",
       "    <\/tr>\n",
       "    <tr>\n",
       "      <th>22<\/th>\n",
       "      <td>Groceries and Gourmet Food;Clothing and Fashio...<\/td>\n",
       "      <td>2<\/td>\n",
       "      <td>1<\/td>\n",
       "      <td>0<\/td>\n",
       "      <td>0<\/td>\n",
       "      <td>0<\/td>\n",
       "    <\/tr>\n",
       "    <tr>\n",
       "      <th>23<\/th>\n",
       "      <td>Groceries and Gourmet Food;Clothing and Fashio...<\/td>\n",
       "      <td>1<\/td>\n",
       "      <td>0<\/td>\n",
       "      <td>0<\/td>\n",
       "      <td>0<\/td>\n",
       "      <td>1<\/td>\n",
       "    <\/tr>\n",
       "    <tr>\n",
       "      <th>24<\/th>\n",
       "      <td>Groceries and Gourmet Food;Home and Kitchen<\/td>\n",
       "      <td>2<\/td>\n",
       "      <td>2<\/td>\n",
       "      <td>0<\/td>\n",
       "      <td>0<\/td>\n",
       "      <td>1<\/td>\n",
       "    <\/tr>\n",
       "    <tr>\n",
       "      <th>25<\/th>\n",
       "      <td>Groceries and Gourmet Food;Home and Kitchen;ot...<\/td>\n",
       "      <td>2<\/td>\n",
       "      <td>4<\/td>\n",
       "      <td>0<\/td>\n",
       "      <td>0<\/td>\n",
       "      <td>0<\/td>\n",
       "    <\/tr>\n",
       "    <tr>\n",
       "      <th>26<\/th>\n",
       "      <td>Home and Kitchen<\/td>\n",
       "      <td>8<\/td>\n",
       "      <td>7<\/td>\n",
       "      <td>1<\/td>\n",
       "      <td>7<\/td>\n",
       "      <td>1<\/td>\n",
       "    <\/tr>\n",
       "    <tr>\n",
       "      <th>27<\/th>\n",
       "      <td>Home and Kitchen;others<\/td>\n",
       "      <td>1<\/td>\n",
       "      <td>4<\/td>\n",
       "      <td>0<\/td>\n",
       "      <td>4<\/td>\n",
       "      <td>0<\/td>\n",
       "    <\/tr>\n",
       "    <tr>\n",
       "      <th>28<\/th>\n",
       "      <td>others<\/td>\n",
       "      <td>7<\/td>\n",
       "      <td>31<\/td>\n",
       "      <td>0<\/td>\n",
       "      <td>8<\/td>\n",
       "      <td>2<\/td>\n",
       "    <\/tr>\n",
       "  <\/tbody>\n",
       "<\/table>\n",
       "<\/div>"
      ]
     },
     "metadata":{
      
     },
     "output_type":"display_data"
    }
   ],
   "metadata":{
    "datalore":{
     "node_id":"TRabWci3MWEwv7UwCvMjPa",
     "type":"CODE",
     "hide_input_from_viewers":true,
     "hide_output_from_viewers":true
    }
   }
  },
  {
   "cell_type":"markdown",
   "source":[
    "**2.7 Show the number of cart abandon factors by age group**"
   ],
   "attachments":{
    
   },
   "metadata":{
    "datalore":{
     "node_id":"fFlfPcAD1dxxk4fSNEBVgP",
     "type":"MD",
     "hide_input_from_viewers":true,
     "hide_output_from_viewers":true
    }
   }
  },
  {
   "cell_type":"code",
   "source":[
    "df_age_abandon = pd.crosstab(df['age'],df['Cart_Abandonment_Factors']).reset_index()\n",
    "df_age_abandon"
   ],
   "execution_count":77,
   "outputs":[
    {
     "data":{
      "text\/html":[
       "<div>\n",
       "<style scoped>\n",
       "    .dataframe tbody tr th:only-of-type {\n",
       "        vertical-align: middle;\n",
       "    }\n",
       "\n",
       "    .dataframe tbody tr th {\n",
       "        vertical-align: top;\n",
       "    }\n",
       "\n",
       "    .dataframe thead th {\n",
       "        text-align: right;\n",
       "    }\n",
       "<\/style>\n",
       "<table border=\"1\" class=\"dataframe\">\n",
       "  <thead>\n",
       "    <tr style=\"text-align: right;\">\n",
       "      <th>Cart_Abandonment_Factors<\/th>\n",
       "      <th>age<\/th>\n",
       "      <th>Changed my mind or no longer need the item<\/th>\n",
       "      <th>Found a better price elsewhere<\/th>\n",
       "      <th>High shipping costs<\/th>\n",
       "      <th>others<\/th>\n",
       "    <\/tr>\n",
       "  <\/thead>\n",
       "  <tbody>\n",
       "    <tr>\n",
       "      <th>0<\/th>\n",
       "      <td>0-19<\/td>\n",
       "      <td>8<\/td>\n",
       "      <td>10<\/td>\n",
       "      <td>3<\/td>\n",
       "      <td>3<\/td>\n",
       "    <\/tr>\n",
       "    <tr>\n",
       "      <th>1<\/th>\n",
       "      <td>20-25<\/td>\n",
       "      <td>79<\/td>\n",
       "      <td>101<\/td>\n",
       "      <td>24<\/td>\n",
       "      <td>11<\/td>\n",
       "    <\/tr>\n",
       "    <tr>\n",
       "      <th>2<\/th>\n",
       "      <td>26-35<\/td>\n",
       "      <td>84<\/td>\n",
       "      <td>71<\/td>\n",
       "      <td>23<\/td>\n",
       "      <td>11<\/td>\n",
       "    <\/tr>\n",
       "    <tr>\n",
       "      <th>3<\/th>\n",
       "      <td>36-45<\/td>\n",
       "      <td>33<\/td>\n",
       "      <td>38<\/td>\n",
       "      <td>9<\/td>\n",
       "      <td>4<\/td>\n",
       "    <\/tr>\n",
       "    <tr>\n",
       "      <th>4<\/th>\n",
       "      <td>46-55<\/td>\n",
       "      <td>27<\/td>\n",
       "      <td>28<\/td>\n",
       "      <td>8<\/td>\n",
       "      <td>7<\/td>\n",
       "    <\/tr>\n",
       "    <tr>\n",
       "      <th>5<\/th>\n",
       "      <td>55+<\/td>\n",
       "      <td>10<\/td>\n",
       "      <td>7<\/td>\n",
       "      <td>3<\/td>\n",
       "      <td>0<\/td>\n",
       "    <\/tr>\n",
       "  <\/tbody>\n",
       "<\/table>\n",
       "<\/div>"
      ]
     },
     "metadata":{
      
     },
     "output_type":"display_data"
    }
   ],
   "metadata":{
    "datalore":{
     "node_id":"WS93GGx7wAP6YXnWGBg9RM",
     "type":"CODE",
     "hide_input_from_viewers":true,
     "hide_output_from_viewers":true
    }
   }
  },
  {
   "cell_type":"markdown",
   "source":[
    "**2.8 What are the most popular product search methods among consumers?**"
   ],
   "attachments":{
    
   },
   "metadata":{
    "datalore":{
     "node_id":"NaRnZFiAfrG10JjGAd9s7U",
     "type":"MD",
     "hide_input_from_viewers":true,
     "hide_output_from_viewers":true
    }
   }
  },
  {
   "cell_type":"code",
   "source":[
    "df_most_search = df['Product_Search_Method'].value_counts().reset_index()\n",
    "df_most_search"
   ],
   "execution_count":78,
   "outputs":[
    {
     "data":{
      "text\/html":[
       "<div>\n",
       "<style scoped>\n",
       "    .dataframe tbody tr th:only-of-type {\n",
       "        vertical-align: middle;\n",
       "    }\n",
       "\n",
       "    .dataframe tbody tr th {\n",
       "        vertical-align: top;\n",
       "    }\n",
       "\n",
       "    .dataframe thead th {\n",
       "        text-align: right;\n",
       "    }\n",
       "<\/style>\n",
       "<table border=\"1\" class=\"dataframe\">\n",
       "  <thead>\n",
       "    <tr style=\"text-align: right;\">\n",
       "      <th><\/th>\n",
       "      <th>index<\/th>\n",
       "      <th>Product_Search_Method<\/th>\n",
       "    <\/tr>\n",
       "  <\/thead>\n",
       "  <tbody>\n",
       "    <tr>\n",
       "      <th>0<\/th>\n",
       "      <td>categories<\/td>\n",
       "      <td>225<\/td>\n",
       "    <\/tr>\n",
       "    <tr>\n",
       "      <th>1<\/th>\n",
       "      <td>Keyword<\/td>\n",
       "      <td>214<\/td>\n",
       "    <\/tr>\n",
       "    <tr>\n",
       "      <th>2<\/th>\n",
       "      <td>Filter<\/td>\n",
       "      <td>127<\/td>\n",
       "    <\/tr>\n",
       "    <tr>\n",
       "      <th>3<\/th>\n",
       "      <td>others<\/td>\n",
       "      <td>36<\/td>\n",
       "    <\/tr>\n",
       "  <\/tbody>\n",
       "<\/table>\n",
       "<\/div>"
      ]
     },
     "metadata":{
      
     },
     "output_type":"display_data"
    }
   ],
   "metadata":{
    "datalore":{
     "node_id":"C4oL7K5zEbBmUxe97LKBSs",
     "type":"CODE",
     "hide_input_from_viewers":true,
     "hide_output_from_viewers":true
    }
   }
  },
  {
   "cell_type":"markdown",
   "source":[
    "**2.9 What are the most ratings from consumer's shopping experience on Amazon?**"
   ],
   "attachments":{
    
   },
   "metadata":{
    "datalore":{
     "node_id":"7ahVeYk2jeWnJdZhoa3X6d",
     "type":"MD",
     "hide_input_from_viewers":true,
     "hide_output_from_viewers":true
    }
   }
  },
  {
   "cell_type":"code",
   "source":[
    "df_most_rating = df['Shopping_Satisfaction'].value_counts().reset_index()\n",
    "df_most_rating"
   ],
   "execution_count":79,
   "outputs":[
    {
     "data":{
      "text\/html":[
       "<div>\n",
       "<style scoped>\n",
       "    .dataframe tbody tr th:only-of-type {\n",
       "        vertical-align: middle;\n",
       "    }\n",
       "\n",
       "    .dataframe tbody tr th {\n",
       "        vertical-align: top;\n",
       "    }\n",
       "\n",
       "    .dataframe thead th {\n",
       "        text-align: right;\n",
       "    }\n",
       "<\/style>\n",
       "<table border=\"1\" class=\"dataframe\">\n",
       "  <thead>\n",
       "    <tr style=\"text-align: right;\">\n",
       "      <th><\/th>\n",
       "      <th>index<\/th>\n",
       "      <th>Shopping_Satisfaction<\/th>\n",
       "    <\/tr>\n",
       "  <\/thead>\n",
       "  <tbody>\n",
       "    <tr>\n",
       "      <th>0<\/th>\n",
       "      <td>3<\/td>\n",
       "      <td>209<\/td>\n",
       "    <\/tr>\n",
       "    <tr>\n",
       "      <th>1<\/th>\n",
       "      <td>2<\/td>\n",
       "      <td>194<\/td>\n",
       "    <\/tr>\n",
       "    <tr>\n",
       "      <th>2<\/th>\n",
       "      <td>1<\/td>\n",
       "      <td>115<\/td>\n",
       "    <\/tr>\n",
       "    <tr>\n",
       "      <th>3<\/th>\n",
       "      <td>4<\/td>\n",
       "      <td>67<\/td>\n",
       "    <\/tr>\n",
       "    <tr>\n",
       "      <th>4<\/th>\n",
       "      <td>5<\/td>\n",
       "      <td>17<\/td>\n",
       "    <\/tr>\n",
       "  <\/tbody>\n",
       "<\/table>\n",
       "<\/div>"
      ]
     },
     "metadata":{
      
     },
     "output_type":"display_data"
    }
   ],
   "metadata":{
    "datalore":{
     "node_id":"OOQk8zjckioXvUNa7Kwp9K",
     "type":"CODE",
     "hide_input_from_viewers":true,
     "hide_output_from_viewers":true
    }
   }
  },
  {
   "cell_type":"markdown",
   "source":[
    "**2.10 What are the most common areas that consumers would like to see improved?**"
   ],
   "attachments":{
    
   },
   "metadata":{
    "datalore":{
     "node_id":"m8BRRgyuXsSlBJmpJJCiUd",
     "type":"MD",
     "hide_input_from_viewers":true,
     "hide_output_from_viewers":true
    }
   }
  },
  {
   "cell_type":"code",
   "source":[
    "\n",
    "df_most_complaint = df['Improvement_Areas'].value_counts().reset_index()\n",
    "df_most_complaint"
   ],
   "execution_count":80,
   "outputs":[
    {
     "data":{
      "text\/html":[
       "<div>\n",
       "<style scoped>\n",
       "    .dataframe tbody tr th:only-of-type {\n",
       "        vertical-align: middle;\n",
       "    }\n",
       "\n",
       "    .dataframe tbody tr th {\n",
       "        vertical-align: top;\n",
       "    }\n",
       "\n",
       "    .dataframe thead th {\n",
       "        text-align: right;\n",
       "    }\n",
       "<\/style>\n",
       "<table border=\"1\" class=\"dataframe\">\n",
       "  <thead>\n",
       "    <tr style=\"text-align: right;\">\n",
       "      <th><\/th>\n",
       "      <th>index<\/th>\n",
       "      <th>Improvement_Areas<\/th>\n",
       "    <\/tr>\n",
       "  <\/thead>\n",
       "  <tbody>\n",
       "    <tr>\n",
       "      <th>0<\/th>\n",
       "      <td>Customer service responsiveness<\/td>\n",
       "      <td>217<\/td>\n",
       "    <\/tr>\n",
       "    <tr>\n",
       "      <th>1<\/th>\n",
       "      <td>Product quality and accuracy<\/td>\n",
       "      <td>159<\/td>\n",
       "    <\/tr>\n",
       "    <tr>\n",
       "      <th>2<\/th>\n",
       "      <td>Reducing packaging waste<\/td>\n",
       "      <td>133<\/td>\n",
       "    <\/tr>\n",
       "    <tr>\n",
       "      <th>3<\/th>\n",
       "      <td>Shipping speed and reliability<\/td>\n",
       "      <td>79<\/td>\n",
       "    <\/tr>\n",
       "    <tr>\n",
       "      <th>4<\/th>\n",
       "      <td>Quality of product is very poor according to t...<\/td>\n",
       "      <td>1<\/td>\n",
       "    <\/tr>\n",
       "    <tr>\n",
       "      <th>5<\/th>\n",
       "      <td>I don't have any problem with Amazon<\/td>\n",
       "      <td>1<\/td>\n",
       "    <\/tr>\n",
       "    <tr>\n",
       "      <th>6<\/th>\n",
       "      <td>User interface of app<\/td>\n",
       "      <td>1<\/td>\n",
       "    <\/tr>\n",
       "    <tr>\n",
       "      <th>7<\/th>\n",
       "      <td>Irrelevant product suggestions<\/td>\n",
       "      <td>1<\/td>\n",
       "    <\/tr>\n",
       "    <tr>\n",
       "      <th>8<\/th>\n",
       "      <td>User interface<\/td>\n",
       "      <td>1<\/td>\n",
       "    <\/tr>\n",
       "    <tr>\n",
       "      <th>9<\/th>\n",
       "      <td>I have no problem with Amazon yet. But others ...<\/td>\n",
       "      <td>1<\/td>\n",
       "    <\/tr>\n",
       "    <tr>\n",
       "      <th>10<\/th>\n",
       "      <td>UI<\/td>\n",
       "      <td>1<\/td>\n",
       "    <\/tr>\n",
       "    <tr>\n",
       "      <th>11<\/th>\n",
       "      <td>Scrolling option would be much better than goi...<\/td>\n",
       "      <td>1<\/td>\n",
       "    <\/tr>\n",
       "    <tr>\n",
       "      <th>12<\/th>\n",
       "      <td>Add more familiar brands to the list<\/td>\n",
       "      <td>1<\/td>\n",
       "    <\/tr>\n",
       "    <tr>\n",
       "      <th>13<\/th>\n",
       "      <td>Nil<\/td>\n",
       "      <td>1<\/td>\n",
       "    <\/tr>\n",
       "    <tr>\n",
       "      <th>14<\/th>\n",
       "      <td>better app interface and lower shipping charges<\/td>\n",
       "      <td>1<\/td>\n",
       "    <\/tr>\n",
       "    <tr>\n",
       "      <th>15<\/th>\n",
       "      <td>Nothing<\/td>\n",
       "      <td>1<\/td>\n",
       "    <\/tr>\n",
       "    <tr>\n",
       "      <th>16<\/th>\n",
       "      <td>.<\/td>\n",
       "      <td>1<\/td>\n",
       "    <\/tr>\n",
       "    <tr>\n",
       "      <th>17<\/th>\n",
       "      <td>No problems with Amazon<\/td>\n",
       "      <td>1<\/td>\n",
       "    <\/tr>\n",
       "  <\/tbody>\n",
       "<\/table>\n",
       "<\/div>"
      ]
     },
     "metadata":{
      
     },
     "output_type":"display_data"
    }
   ],
   "metadata":{
    "datalore":{
     "node_id":"E0l2gY8auCwYxt3Owx2uCX",
     "type":"CODE",
     "hide_input_from_viewers":true,
     "hide_output_from_viewers":true
    }
   }
  },
  {
   "cell_type":"markdown",
   "source":[
    "### Summary and Recommendations\n",
    "\n",
    "- Ages 20-25 are typically on a budget. Many people in their 20s are students or young professionals who are just starting out in their careers. They may not have a lot of spare income, so they are more likely to be price-conscious. Moreover, people in their 20s are more likely to shop online more than people in other age groups. This makes it easier for them to compare prices from different retailers.\n",
    "  \n",
    "- People in their 20s are searching for what works best for them. Additionally, they are more susceptible to being influenced by fashion trends, which can contribute to increased spending on clothing and beauty products. Amazon may consider creating promotions that target consumers in this age group to increase product sales, consistent with spending focusing on price comparisons for this age group.\n",
    "  \n",
    "- Customer service responsiveness is an important topic that requires immediate improvement, as customers may decide to switch to competitors if customer service does not adequately support the help to consumers. In addition, it is necessary to pay more attention to delivering products correctly and improving packaging to reduce waste or recyclable packaging."
   ],
   "attachments":{
    
   },
   "metadata":{
    "datalore":{
     "node_id":"YwcTOc58wL5bhgu3QuiFHd",
     "type":"MD",
     "hide_input_from_viewers":true,
     "hide_output_from_viewers":true
    }
   }
  }
 ],
 "metadata":{
  "kernelspec":{
   "display_name":"Python",
   "language":"python",
   "name":"python"
  },
  "datalore":{
   "computation_mode":"JUPYTER",
   "package_manager":"pip",
   "base_environment":"default",
   "packages":[
    
   ],
   "report_row_ids":[
    
   ],
   "version":3
  }
 },
 "nbformat":4,
 "nbformat_minor":4
}